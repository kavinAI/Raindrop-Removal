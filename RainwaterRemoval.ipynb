{
  "nbformat": 4,
  "nbformat_minor": 0,
  "metadata": {
    "colab": {
      "provenance": [],
      "gpuType": "T4"
    },
    "kernelspec": {
      "name": "python3",
      "display_name": "Python 3"
    },
    "language_info": {
      "name": "python"
    },
    "accelerator": "GPU"
  },
  "cells": [
    {
      "cell_type": "code",
      "source": [
        "!cd /content/drive/MyDrive/Vision/Raindrop-Removal-main"
      ],
      "metadata": {
        "id": "6ryD524DjDTB"
      },
      "execution_count": null,
      "outputs": []
    },
    {
      "cell_type": "code",
      "source": [
        "import sys\n",
        "print(sys.path)\n",
        "if not '/content/drive/MyDrive/Vision/Raindrop-Removal-main' in sys.path:\n",
        "    sys.path.append('/content/drive/MyDrive/Vision/Raindrop-Removal-main')\n"
      ],
      "metadata": {
        "colab": {
          "base_uri": "https://localhost:8080/"
        },
        "id": "UiJui_Mljzpx",
        "outputId": "5d995f96-91ff-4414-f6de-6ccd65cbbc4d"
      },
      "execution_count": null,
      "outputs": [
        {
          "output_type": "stream",
          "name": "stdout",
          "text": [
            "['/content', '/env/python', '/usr/lib/python310.zip', '/usr/lib/python3.10', '/usr/lib/python3.10/lib-dynload', '', '/usr/local/lib/python3.10/dist-packages', '/usr/lib/python3/dist-packages', '/usr/local/lib/python3.10/dist-packages/IPython/extensions', '/usr/local/lib/python3.10/dist-packages/setuptools/_vendor', '/root/.ipython']\n"
          ]
        }
      ]
    },
    {
      "cell_type": "code",
      "execution_count": null,
      "metadata": {
        "colab": {
          "base_uri": "https://localhost:8080/"
        },
        "id": "bPNa6OQCdqyS",
        "outputId": "b2477cd0-20bd-4914-c2f7-2c9edaa0f358"
      },
      "outputs": [
        {
          "output_type": "stream",
          "name": "stdout",
          "text": [
            "searching...  model.proposed_model\n",
            "model.proposed_model is created\n",
            "initialize network with normal\n",
            "initialize network with normal\n",
            "initialize network with normal\n",
            "Loading <model.proposed_model.Model object at 0x788c135a5720> at EPOCH 1800!!\n",
            "Test Finished!!\n"
          ]
        }
      ],
      "source": [
        "import os\n",
        "import cv2\n",
        "import argparse\n",
        "import utils\n",
        "import numpy as np\n",
        "from model.find_model import find_model\n",
        "\n",
        "def test():\n",
        "\n",
        "    ckpt_dir = '/content/drive/MyDrive/Vision/Raindrop-Removal-main/checkpoint/proposed'\n",
        "    model, _ = find_model('proposed', 'test')\n",
        "    epoch = model.load(ckpt_dir)\n",
        "    print(f'Loading {model} at EPOCH {epoch}!!')\n",
        "\n",
        "    img_dir = '/content/drive/MyDrive/Vision/Raindrop-Removal-main/test_images'\n",
        "    img_file_list = utils.get_image_file_list(img_dir)\n",
        "\n",
        "    for i, filename in enumerate(img_file_list, 1):\n",
        "        img = cv2.imread(os.path.join(img_dir, filename))\n",
        "        img = cv2.cvtColor(img, cv2.COLOR_BGR2RGB)\n",
        "\n",
        "        input = utils.numpy2tensor(img)\n",
        "        output = model.test_one_image(input)\n",
        "\n",
        "        # save images\n",
        "        save_dir = '/content/drive/MyDrive/Vision/Raindrop-Removal-main/test_results'\n",
        "        utils.save_outputs(\n",
        "            save_dir = save_dir,\n",
        "            filename = f'{filename[:-4]}.png',\n",
        "            outputs = output,\n",
        "            max_display = 3\n",
        "            )\n",
        "\n",
        "        save_output_dir = os.path.join(save_dir, 'output')\n",
        "        os.makedirs(save_output_dir, exist_ok=True)\n",
        "        cv2.imwrite(os.path.join(save_output_dir, f'{filename[:-4]}.png'), cv2.cvtColor(output['output'].squeeze() * 255, cv2.COLOR_RGB2BGR))\n",
        "\n",
        "    print('Test Finished!!')\n",
        "\n",
        "\n",
        "if __name__=='__main__':\n",
        "    #parser = argparse.ArgumentParser(prog = 'DeRainDrop')\n",
        "\n",
        "    #parser.add_argument('--model', default='proposed', type=str, dest='model')\n",
        "    #parser.add_argument('--ckpt_dir', default='./checkpoint/', type=str, dest='ckpt_dir')\n",
        "    #parser.add_argument('--ckpt_epoch', default=None, type=int, dest='ckpt_epoch')\n",
        "    #parser.add_argument('--dataset_dir', default='./dataset/', type=str, dest='dataset_dir')\n",
        "    #parser.add_argument('--save_dir', default='./result', type=str, dest='save_dir')\n",
        "    #parser.add_argument('--resize', default='original', type=str, dest='resize')\n",
        "\n",
        "    #args = parser.parse_args()\n",
        "    test()\n",
        "\n"
      ]
    }
  ]
}